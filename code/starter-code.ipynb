{
 "cells": [
  {
   "cell_type": "markdown",
   "metadata": {},
   "source": [
    "<img src=\"http://imgur.com/1ZcRyrc.png\" style=\"float: left; margin: 20px; height: 55px\">\n",
    "\n",
    "# Project 1: Standardized Test Analysis"
   ]
  },
  {
   "cell_type": "markdown",
   "metadata": {},
   "source": [
    "--- \n",
    "# Part 1\n",
    "\n",
    "Part 1 requires knowledge of basic Python.\n",
    "\n",
    "---"
   ]
  },
  {
   "cell_type": "markdown",
   "metadata": {},
   "source": [
    "## Problem Statement"
   ]
  },
  {
   "cell_type": "markdown",
   "metadata": {},
   "source": [
    "**To-Do:** *This project aims to identify trends indicating a performance advantage on the SATs & ACTs related to the so-called “equitable ranking” of public school districts throughout the state of California, primarily for the consideration of resource allocation by state legislatures.*"
   ]
  },
  {
   "cell_type": "markdown",
   "metadata": {},
   "source": [
    "### Contents:\n",
    "- [Background](#Background)\n",
    "- [Data Import & Cleaning](#Data-Import-and-Cleaning)\n",
    "- [Exploratory Data Analysis](#Exploratory-Data-Analysis)\n",
    "- [Data Visualization](#Visualize-the-Data)\n",
    "- [Conclusions and Recommendations](#Conclusions-and-Recommendations)"
   ]
  },
  {
   "cell_type": "markdown",
   "metadata": {},
   "source": [
    "## Background"
   ]
  },
  {
   "cell_type": "markdown",
   "metadata": {},
   "source": [
    "The SAT and ACT are standardized tests that many colleges and universities in the United States require for their admissions process. This score is used along with other materials such as grade point average (GPA) and essay responses to determine whether or not a potential student will be accepted to the university.\n",
    "\n",
    "The SAT has two sections of the test: Evidence-Based Reading and Writing and Math ([*source*](https://www.princetonreview.com/college/sat-sections)). The ACT has 4 sections: English, Mathematics, Reading, and Science, with an additional optional writing section ([*source*](https://www.act.org/content/act/en/products-and-services/the-act/scores/understanding-your-scores.html)). They have different score ranges, which you can read more about on their websites or additional outside sources (a quick Google search will help you understand the scores for each test):\n",
    "* [SAT](https://collegereadiness.collegeboard.org/sat)\n",
    "* [ACT](https://www.act.org/content/act/en.html)\n",
    "\n",
    "Standardized tests have long been a controversial topic for students, administrators, and legislators. Since the 1940's, an increasing number of colleges have been using scores from sudents' performances on tests like the SAT and the ACT as a measure for college readiness and aptitude ([*source*](https://www.minotdailynews.com/news/local-news/2017/04/a-brief-history-of-the-sat-and-act/)). Supporters of these tests argue that these scores can be used as an objective measure to determine college admittance. Opponents of these tests claim that these tests are not accurate measures of students potential or ability and serve as an inequitable barrier to entry. Lately, more and more schools are opting to drop the SAT/ACT requirement for their Fall 2021 applications ([*read more about this here*](https://www.cnn.com/2020/04/14/us/coronavirus-colleges-sat-act-test-trnd/index.html))."
   ]
  },
  {
   "cell_type": "markdown",
   "metadata": {},
   "source": [
    "**To-Do:** *Fill out this cell (or edit the above cell) with any other background or information that is necessary for your problem statement.*"
   ]
  },
  {
   "cell_type": "markdown",
   "metadata": {},
   "source": [
    "### Choose your Data\n",
    "\n",
    "There are 10 datasets included in the [`data`](./data/) folder for this project. You are required to pick **at least two** of these to complete your analysis. Feel free to use more than two if you would like, or add other relevant datasets you find online.\n",
    "\n",
    "* [`act_2017.csv`](./data/act_2017.csv): 2017 ACT Scores by State\n",
    "* [`act_2018.csv`](./data/act_2018.csv): 2018 ACT Scores by State\n",
    "* [`act_2019.csv`](./data/act_2019.csv): 2019 ACT Scores by State\n",
    "* [`act_2019_ca.csv`](./data/act_2019_ca.csv): 2019 ACT Scores in California by School\n",
    "* [`sat_2017.csv`](./data/sat_2017.csv): 2017 SAT Scores by State\n",
    "* [`sat_2018.csv`](./data/sat_2018.csv): 2018 SAT Scores by State\n",
    "* [`sat_2019.csv`](./data/sat_2019.csv): 2019 SAT Scores by State\n",
    "* [`sat_2019_by_intended_college_major.csv`](./data/sat_2019_by_intended_college_major.csv): 2019 SAT Scores by Intended College Major\n",
    "* [`sat_2019_ca.csv`](./data/sat_2019_ca.csv): 2019 SAT Scores in California by School\n",
    "* [`sat_act_by_college.csv`](./data/sat_act_by_college.csv): Ranges of Accepted ACT & SAT Student Scores by Colleges"
   ]
  },
  {
   "cell_type": "markdown",
   "metadata": {},
   "source": [
    "**To-Do:** *Fill out this cell with the datasets you will use for your analysis. Write a brief description of the contents for each dataset that you choose.*"
   ]
  },
  {
   "cell_type": "markdown",
   "metadata": {},
   "source": [
    "### Outside Research"
   ]
  },
  {
   "cell_type": "markdown",
   "metadata": {},
   "source": [
    "Based on your problem statement and your chosen datasets, spend some time doing outside research on state policies or additional information that might be relevant. Summarize your findings below. If you bring in any outside tables or charts, make sure you are explicit about having borrowed them. If you quote any text, make sure that it renders as being quoted. **Make sure that you cite your sources.**"
   ]
  },
  {
   "cell_type": "markdown",
   "metadata": {},
   "source": [
    "**To-Do:** *Fill out this cell with outside research or any additional background information that will support your analysis.*"
   ]
  },
  {
   "cell_type": "markdown",
   "metadata": {},
   "source": [
    "### Coding Challenges\n",
    "\n",
    "1. Manually calculate mean:\n",
    "\n",
    "    Write a function that takes in values and returns the mean of the values. Create a list of numbers that you test on your function to check to make sure your function works!\n",
    "    \n",
    "    *Note*: Do not use any mean methods built-in to any Python libraries to do this! This should be done without importing any additional libraries."
   ]
  },
  {
   "cell_type": "code",
   "execution_count": 20,
   "metadata": {},
   "outputs": [],
   "source": [
    "# Code:\n",
    "def my_mean(events):\n",
    "    return (sum(events)/len(events))"
   ]
  },
  {
   "cell_type": "code",
   "execution_count": 19,
   "metadata": {},
   "outputs": [
    {
     "data": {
      "text/plain": [
       "5.0"
      ]
     },
     "execution_count": 19,
     "metadata": {},
     "output_type": "execute_result"
    }
   ],
   "source": [
    "#Function Test\n",
    "numbers = [1,2,3,4,5,6,7,8,9,9,8,7,6,5,4,3,2,1]\n",
    "my_mean(numbers)"
   ]
  },
  {
   "cell_type": "markdown",
   "metadata": {},
   "source": [
    "2. Manually calculate standard deviation:\n",
    "\n",
    "    The formula for standard deviation is below:\n",
    "\n",
    "    $$\\sigma = \\sqrt{\\frac{1}{n}\\sum_{i=1}^n(x_i - \\mu)^2}$$\n",
    "\n",
    "    Where $x_i$ represents each value in the dataset, $\\mu$ represents the mean of all values in the dataset and $n$ represents the number of values in the dataset.\n",
    "\n",
    "    Write a function that takes in values and returns the standard deviation of the values using the formula above. Hint: use the function you wrote above to calculate the mean! Use the list of numbers you created above to test on your function.\n",
    "    \n",
    "    *Note*: Do not use any standard deviation methods built-in to any Python libraries to do this! This should be done without importing any additional libraries."
   ]
  },
  {
   "cell_type": "code",
   "execution_count": 17,
   "metadata": {},
   "outputs": [],
   "source": [
    "# Code:\n",
    "def std_dev(events):\n",
    "    mean = my_mean(events)\n",
    "    over_n = 1/len(events)\n",
    "    rms = list(map(lambda event: ((event-mean)**2)*over_n, events))\n",
    "    return round(sum(rms)**0.5,3)"
   ]
  },
  {
   "cell_type": "code",
   "execution_count": 18,
   "metadata": {},
   "outputs": [
    {
     "data": {
      "text/plain": [
       "1.118"
      ]
     },
     "execution_count": 18,
     "metadata": {},
     "output_type": "execute_result"
    }
   ],
   "source": [
    "#Function Test\n",
    "numbers = (1, 2, 3, 4) \n",
    "std_dev(numbers)"
   ]
  },
  {
   "cell_type": "markdown",
   "metadata": {},
   "source": [
    "3. Data cleaning function:\n",
    "    \n",
    "    Write a function that takes in a string that is a number and a percent symbol (ex. '50%', '30.5%', etc.) and converts this to a float that is the decimal approximation of the percent. For example, inputting '50%' in your function should return 0.5, '30.5%' should return 0.305, etc. Make sure to test your function to make sure it works!\n",
    "\n",
    "You will use these functions later on in the project!"
   ]
  },
  {
   "cell_type": "code",
   "execution_count": 11,
   "metadata": {},
   "outputs": [],
   "source": [
    "# Code:\n",
    "def calc_decimal(percent_string):\n",
    "    return float(percent_string[:-1])/100"
   ]
  },
  {
   "cell_type": "code",
   "execution_count": 12,
   "metadata": {},
   "outputs": [
    {
     "data": {
      "text/plain": [
       "0.3567"
      ]
     },
     "execution_count": 12,
     "metadata": {},
     "output_type": "execute_result"
    }
   ],
   "source": [
    "#Function Test\n",
    "calc_decimal('35.67%')"
   ]
  },
  {
   "cell_type": "markdown",
   "metadata": {},
   "source": [
    "--- \n",
    "# Part 2\n",
    "\n",
    "Part 2 requires knowledge of Pandas, EDA, data cleaning, and data visualization.\n",
    "\n",
    "---"
   ]
  },
  {
   "cell_type": "markdown",
   "metadata": {},
   "source": [
    "*All libraries used should be added here*"
   ]
  },
  {
   "cell_type": "code",
   "execution_count": 1,
   "metadata": {},
   "outputs": [],
   "source": [
    "# Imports:\n",
    "import numpy as np\n",
    "import pandas as pd\n",
    "from random import randint\n",
    "import matplotlib.pyplot as plt\n",
    "import seaborn as sns"
   ]
  },
  {
   "cell_type": "markdown",
   "metadata": {},
   "source": [
    "## Data Import and Cleaning"
   ]
  },
  {
   "cell_type": "markdown",
   "metadata": {},
   "source": [
    "### Data Import & Cleaning\n",
    "\n",
    "Import the datasets that you selected for this project and go through the following steps at a minimum. You are welcome to do further cleaning as you feel necessary:\n",
    "1. Display the data: print the first 5 rows of each dataframe to your Jupyter notebook.\n",
    "2. Check for missing values.\n",
    "3. Check for any obvious issues with the observations (keep in mind the minimum & maximum possible values for each test/subtest).\n",
    "4. Fix any errors you identified in steps 2-3.\n",
    "5. Display the data types of each feature.\n",
    "6. Fix any incorrect data types found in step 5.\n",
    "    - Fix any individual values preventing other columns from being the appropriate type.\n",
    "    - If your dataset has a column of percents (ex. '50%', '30.5%', etc.), use the function you wrote in Part 1 (coding challenges, number 3) to convert this to floats! *Hint*: use `.map()` or `.apply()`.\n",
    "7. Rename Columns.\n",
    "    - Column names should be all lowercase.\n",
    "    - Column names should not contain spaces (underscores will suffice--this allows for using the `df.column_name` method to access columns in addition to `df['column_name']`).\n",
    "    - Column names should be unique and informative.\n",
    "8. Drop unnecessary rows (if needed).\n",
    "9. Merge dataframes that can be merged.\n",
    "10. Perform any additional cleaning that you feel is necessary.\n",
    "11. Save your cleaned and merged dataframes as csv files."
   ]
  },
  {
   "cell_type": "code",
   "execution_count": 1,
   "metadata": {},
   "outputs": [
    {
     "data": {
      "text/plain": [
       "'C:\\\\Users\\\\bgrif\\\\Desktop\\\\GA_DSI\\\\projects\\\\project1_SAT_ACT\\\\project_1\\\\code'"
      ]
     },
     "execution_count": 1,
     "metadata": {},
     "output_type": "execute_result"
    }
   ],
   "source": [
    "%pwd"
   ]
  },
  {
   "cell_type": "code",
   "execution_count": 189,
   "metadata": {},
   "outputs": [
    {
     "name": "stdout",
     "output_type": "stream",
     "text": [
      " Volume in drive C is Windows\n",
      " Volume Serial Number is 72F8-2D4C\n",
      "\n",
      " Directory of C:\\Users\\bgrif\\Desktop\\GA_DSI\\projects\\project1_SAT_ACT\\project_1\n",
      "\n",
      "09/19/2020  10:25 PM    <DIR>          .\n",
      "09/19/2020  10:25 PM    <DIR>          ..\n",
      "09/19/2020  10:25 PM             1,218 .gitignore\n",
      "09/20/2020  10:21 PM    <DIR>          code\n",
      "09/20/2020  09:59 PM    <DIR>          data\n",
      "09/19/2020  10:25 PM            17,339 README.md\n",
      "               2 File(s)         18,557 bytes\n",
      "               4 Dir(s)  321,994,792,960 bytes free\n"
     ]
    }
   ],
   "source": [
    "#SAT College Board Benchmarks 12th Grade: M-530/ERW-480, 11th Grade: M-510/ERW-970\n",
    "#SAT converted score: ACT-21, SAT-[1060-1090]\n",
    "#https://collegereadiness.collegeboard.org/about/scores/benchmarks\n",
    "%ls .."
   ]
  },
  {
   "cell_type": "code",
   "execution_count": 18,
   "metadata": {},
   "outputs": [
    {
     "name": "stdout",
     "output_type": "stream",
     "text": [
      "             district_name  num_over_benchmark_sat  num_over_benchmark_act  \\\n",
      "294  pajaro valley unified                     133                      88   \n",
      "82          bonita unified                     168                      97   \n",
      "14     tracy joint unified                     247                      84   \n",
      "129     san marcos unified                     301                     265   \n",
      "147      val verde unified                     225                      14   \n",
      "..                     ...                     ...                     ...   \n",
      "20      san marino unified                     110                      86   \n",
      "10    tamalpais union high                     361                     374   \n",
      "286      la canada unified                     156                     130   \n",
      "213      palo alto unified                     332                     393   \n",
      "1    piedmont city unified                      61                     110   \n",
      "\n",
      "     pct_over_benchmark_sat  pct_over_benchmark_act  rank   score  \n",
      "294                   35.75                   34.24     4    0.19  \n",
      "82                    53.16                   61.78     5    0.27  \n",
      "14                    51.14                   52.50     7    0.29  \n",
      "129                   56.47                   62.80     9    0.33  \n",
      "147                   17.18                   34.15    10    0.38  \n",
      "..                      ...                     ...   ...     ...  \n",
      "20                    91.67                   90.53   870  123.41  \n",
      "10                    82.99                   90.78   874  124.93  \n",
      "286                   91.76                   94.20   883  141.78  \n",
      "213                   90.46                   86.56   895  173.72  \n",
      "1                     78.21                   94.83   909  225.57  \n",
      "\n",
      "[297 rows x 7 columns]\n"
     ]
    },
    {
     "data": {
      "text/html": [
       "<div>\n",
       "<style scoped>\n",
       "    .dataframe tbody tr th:only-of-type {\n",
       "        vertical-align: middle;\n",
       "    }\n",
       "\n",
       "    .dataframe tbody tr th {\n",
       "        vertical-align: top;\n",
       "    }\n",
       "\n",
       "    .dataframe thead th {\n",
       "        text-align: right;\n",
       "    }\n",
       "</style>\n",
       "<table border=\"1\" class=\"dataframe\">\n",
       "  <thead>\n",
       "    <tr style=\"text-align: right;\">\n",
       "      <th></th>\n",
       "      <th>rank</th>\n",
       "      <th>district_name</th>\n",
       "      <th>score</th>\n",
       "      <th>expenditures_per_pupil</th>\n",
       "      <th>income</th>\n",
       "    </tr>\n",
       "  </thead>\n",
       "  <tbody>\n",
       "    <tr>\n",
       "      <th>0</th>\n",
       "      <td>1</td>\n",
       "      <td>los nietos</td>\n",
       "      <td>0.03</td>\n",
       "      <td>14525</td>\n",
       "      <td>63516</td>\n",
       "    </tr>\n",
       "    <tr>\n",
       "      <th>1</th>\n",
       "      <td>2</td>\n",
       "      <td>gen shafter elementary</td>\n",
       "      <td>0.13</td>\n",
       "      <td>17245</td>\n",
       "      <td>49167</td>\n",
       "    </tr>\n",
       "    <tr>\n",
       "      <th>2</th>\n",
       "      <td>3</td>\n",
       "      <td>browns elementary</td>\n",
       "      <td>0.17</td>\n",
       "      <td>10664</td>\n",
       "      <td>83942</td>\n",
       "    </tr>\n",
       "    <tr>\n",
       "      <th>3</th>\n",
       "      <td>4</td>\n",
       "      <td>pajaro valley unified</td>\n",
       "      <td>0.19</td>\n",
       "      <td>13924</td>\n",
       "      <td>66867</td>\n",
       "    </tr>\n",
       "    <tr>\n",
       "      <th>4</th>\n",
       "      <td>5</td>\n",
       "      <td>bonita unified</td>\n",
       "      <td>0.27</td>\n",
       "      <td>10602</td>\n",
       "      <td>84202</td>\n",
       "    </tr>\n",
       "  </tbody>\n",
       "</table>\n",
       "</div>"
      ],
      "text/plain": [
       "   rank           district_name  score  expenditures_per_pupil  income\n",
       "0     1              los nietos   0.03                   14525   63516\n",
       "1     2  gen shafter elementary   0.13                   17245   49167\n",
       "2     3       browns elementary   0.17                   10664   83942\n",
       "3     4   pajaro valley unified   0.19                   13924   66867\n",
       "4     5          bonita unified   0.27                   10602   84202"
      ]
     },
     "execution_count": 18,
     "metadata": {},
     "output_type": "execute_result"
    }
   ],
   "source": [
    "# Code:\n",
    "#Import Data Sets\n",
    "actdf = pd.read_csv('../data/act_2019_ca.csv') #2019 ACT Scores in California by School\n",
    "satdf = pd.read_csv('../data/sat_2019_ca.csv') #2019 SAT Scores in California by School\n",
    "equitydf = pd.read_csv('../data/equitable_county_rank.csv') #2019 California School District Equitablility Ranking\n",
    "\n",
    "#Display Data\n",
    "#print(actdf.head())\n",
    "#print(satdf.head())\n",
    "#print(collegedf.head())\n",
    "#print(equitydf.head())\n",
    "\n",
    "#Drop the empty (last) row\n",
    "actdf.drop(actdf.tail(1).index,inplace=True)\n",
    "satdf.drop(satdf.tail(1).index,inplace=True)\n",
    "\n",
    "#RType == 'C' entries contain aggregate County info\n",
    "act_countydf = actdf[actdf['RType'] == 'C'].copy()\n",
    "sat_countydf = satdf[satdf['RType'] == 'C'].copy()\n",
    "\n",
    "#RType == 'D' entries contain aggregate School District info\n",
    "act_districtdf = actdf[actdf['RType'] == 'D'].copy()\n",
    "sat_districtdf = satdf[satdf['RType'] == 'D'].copy()\n",
    "\n",
    "#Create filters for special cases where score records are not available(or don't exist)\n",
    "#Filter out DISTRICT records where no seniors took exam, but more than 15 were enrolled\n",
    "null_district_actdf = act_districtdf[act_districtdf['PctGE21'].isnull()==False]\n",
    "null_district_satdf = sat_districtdf[sat_districtdf['PctBothBenchmark12'].isnull()==False]\n",
    "\n",
    "#Filter out COUNTY records where no seniors took exam, but more than 15 were enrolled\n",
    "null_county_actdf = act_countydf[act_countydf['PctGE21'].isnull()==False]\n",
    "null_county_satdf = sat_countydf[sat_countydf['PctBothBenchmark12'].isnull()==False]\n",
    "\n",
    "#Filter out DISTRICT records where less than 15 enrolled seniors took exam\n",
    "district_scores_actdf = null_district_actdf[null_district_actdf['PctGE21']!='*'].copy()\n",
    "district_scores_satdf = null_district_satdf[null_district_satdf['PctBothBenchmark12']!='*'].copy()\n",
    "\n",
    "#Filter out COUNTY records where less than 15 enrolled seniors took exam\n",
    "county_scores_actdf = null_county_actdf[null_county_actdf['PctGE21']!='*'].copy()\n",
    "county_scores_satdf = null_county_satdf[null_county_satdf['PctBothBenchmark12']!='*'].copy()\n",
    "\n",
    "'''for row in actdf.index:\n",
    "    if actdf['PctGE21'][row].isnull()==False:\n",
    "        print(actdf[actdf['PctGE21'].isnull()==False])\n",
    "        print(actdf[actdf['PctGE21']=='*'])'''\n",
    "\n",
    "#Drop special characters '$' and ',' from equitable_county_rank.csv\n",
    "for row in range(len(equitydf.index)):\n",
    "    equitydf.loc[row,['Expenditures for Public Elementary and Secondary Schools per Pupil']] \\\n",
    "        = equitydf['Expenditures for Public Elementary and Secondary Schools per Pupil'][row].replace(',','').replace('$','')\n",
    "    equitydf.loc[row,['Income by School District']] = equitydf['Income by School District'][row].replace(',','').replace('$','')\n",
    "\n",
    "#Fix Incorrect Data Types\n",
    "#print(act_districtdf.info())\n",
    "#print(act_countydf.info())\n",
    "#print(district_scores_actdf.info())\n",
    "#print(county_scores_actdf.info())\n",
    "\n",
    "for name in ['Expenditures for Public Elementary and Secondary Schools per Pupil', 'Income by School District']:\n",
    "    equitydf[name] = equitydf[name].apply(int).copy()\n",
    "\n",
    "for name in ['CCode', 'CDCode', 'Enroll12', 'NumTstTakr']:\n",
    "    act_districtdf[name] = act_districtdf[name].apply(int).copy()\n",
    "    act_countydf[name] = act_countydf[name].apply(int).copy()\n",
    "    district_scores_actdf[name] = district_scores_actdf[name].apply(int).copy()\n",
    "    county_scores_actdf[name] = county_scores_actdf[name].apply(int).copy()\n",
    "    \n",
    "for name in ['CCode', 'CDCode', 'Enroll12', 'NumTSTTakr12']:\n",
    "    sat_districtdf[name] = sat_districtdf[name].apply(int).copy()\n",
    "    sat_countydf[name] = sat_countydf[name].apply(int).copy()\n",
    "    district_scores_satdf[name] = district_scores_satdf[name].apply(int).copy()\n",
    "    county_scores_satdf[name] = county_scores_satdf[name].apply(int).copy()\n",
    "\n",
    "#Additional dtypes to fix for 'PctGE21'-(ACT data) & 'PctBothBenchmark12'-(SAT data)\n",
    "county_scores_actdf['NumGE21'] = county_scores_actdf['NumGE21'].apply(int)\n",
    "district_scores_actdf['NumGE21'] = district_scores_actdf['NumGE21'].apply(int)\n",
    "\n",
    "county_scores_actdf['PctGE21'] = county_scores_actdf['PctGE21'].apply(float)\n",
    "district_scores_actdf['PctGE21'] = district_scores_actdf['PctGE21'].apply(float)\n",
    "\n",
    "county_scores_satdf['NumTSTTakr12'] = county_scores_satdf['NumTSTTakr12'].apply(int)\n",
    "district_scores_satdf['NumTSTTakr12'] = district_scores_satdf['NumTSTTakr12'].apply(int)\n",
    "\n",
    "county_scores_satdf['TotNumBothBenchmark12'] = county_scores_satdf['TotNumBothBenchmark12'].apply(int)\n",
    "district_scores_satdf['TotNumBothBenchmark12'] = district_scores_satdf['TotNumBothBenchmark12'].apply(int)\n",
    "\n",
    "county_scores_satdf['PctBothBenchmark12'] = county_scores_satdf['PctBothBenchmark12'].apply(float)\n",
    "district_scores_satdf['PctBothBenchmark12'] = district_scores_satdf['PctBothBenchmark12'].apply(float)\n",
    "\n",
    "#print(county_scores_actdf[['NumGE21','PctGE21']].agg( ['mean', 'max', 'min', 'std'] ))\n",
    "#print(county_scores_satdf[['NumTSTTakr12','PctBothBenchmark12']].agg( ['mean', 'max', 'min', 'std'] ))\n",
    "\n",
    "district_scores_actdf['PctGE21'] = district_scores_actdf['PctGE21'].apply(float)\n",
    "\n",
    "#print(sat_districtdf.info())\n",
    "#print(act_districtdf.info())\n",
    "#print(district_scores_actdf.info())\n",
    "#print(district_scores_satdf.info())\n",
    "\n",
    "#Remove excess columns and just focus on DISTRICT data for the sake of time\n",
    "act_districtdf=act_districtdf[['CCode', 'CDCode','DName', 'CName','Enroll12', 'NumTstTakr']]\n",
    "district_scores_actdf=district_scores_actdf[['CCode', 'CDCode','DName', 'CName','Enroll12', 'NumTstTakr', 'NumGE21', 'PctGE21']]\n",
    "\n",
    "sat_districtdf = sat_districtdf[['CCode', 'CDCode', 'DName', 'CName','Enroll12', 'NumTSTTakr12']]\n",
    "district_scores_satdf = district_scores_satdf[['CCode', 'CDCode', 'DName', 'CName','Enroll12', 'NumTSTTakr12', 'TotNumBothBenchmark12', 'PctBothBenchmark12']]\n",
    "\n",
    "#Rename Columns\n",
    "act_districtdf = act_districtdf.rename(columns={'CCode':'county_code','CName':'county_name','CDCode':'district_code', 'DName':'district_name','Enroll12':'enrolled_seniors', 'NumTstTakr':'tested_seniors'})\n",
    "district_scores_actdf = district_scores_actdf.rename(columns={'CCode':'county_code','CName':'county_name','CDCode':'district_code', 'DName':'district_name','Enroll12':'enrolled_seniors', 'NumTstTakr':'tested_seniors', 'NumGE21':'num_over_benchmark_act', 'PctGE21':'pct_over_benchmark_act'})\n",
    "\n",
    "sat_districtdf = sat_districtdf.rename(columns={'CCode':'county_code','CName':'county_name', 'CDCode':'district_code', 'DName':'district_name','Enroll12':'enrolled_seniors', 'NumTSTTakr12':'tested_seniors'})\n",
    "district_scores_satdf = district_scores_satdf.rename(columns={'CCode':'county_code','CName':'county_name', 'CDCode':'district_code', 'DName':'district_name','Enroll12':'enrolled_seniors', 'NumTSTTakr12':'tested_seniors', 'TotNumBothBenchmark12':'num_over_benchmark_sat', 'PctBothBenchmark12':'pct_over_benchmark_sat'})\n",
    "    \n",
    "equitydf = equitydf.rename(columns={'Rank*':'rank', 'School District':'district_name', 'Score':'score','Expenditures for Public Elementary and Secondary Schools per Pupil':'expenditures_per_pupil','Income by School District':'income'})\n",
    "\n",
    "#Additional Cleaning\n",
    "#ID equitable counties from respective districts\n",
    "#Drop 'School District' from the string containing the School District name\n",
    "for index in range(len(equitydf['district_name'])):\n",
    "    equitydf.loc[ index, [ 'district_name' ] ]  = equitydf['district_name'][index].replace('School District','')\n",
    "    \n",
    "#Hov helped me merge by sowing me str.strip() and giving insiight into the underlying problem\n",
    "standardized_test = district_scores_satdf.merge(district_scores_actdf, on='district_name')\n",
    "standardized_test['district_name'] = standardized_test['district_name'].str.strip()\n",
    "standardized_test['district_name'] = standardized_test['district_name'].str.lower()\n",
    "equitydf['district_name'] = equitydf['district_name'].str.strip()\n",
    "equitydf['district_name'] = equitydf['district_name'].str.lower()\n",
    "finaldf = standardized_test.merge(equitydf, on='district_name')\n",
    "print(finaldf[ ['district_name', 'num_over_benchmark_sat', 'num_over_benchmark_act','pct_over_benchmark_sat','pct_over_benchmark_act','rank', 'score']].sort_values(by='score'))\n",
    "\n",
    "finaldf[ ['district_name', 'num_over_benchmark_sat', 'num_over_benchmark_act','pct_over_benchmark_sat','pct_over_benchmark_act','rank', 'score']].describe()\n",
    "\n",
    "standardized_test.head()\n",
    "equitydf.head()"
   ]
  },
  {
   "cell_type": "code",
   "execution_count": 22,
   "metadata": {},
   "outputs": [
    {
     "data": {
      "text/plain": [
       "array(['Alameda', 'Amador', 'Butte', 'Calaveras', 'Colusa',\n",
       "       'Contra Costa', 'Del Norte', 'El Dorado', 'Fresno', 'Glenn',\n",
       "       'Humboldt', 'Imperial', 'Inyo', 'Kern', 'Kings', 'Lake', 'Lassen',\n",
       "       'Los Angeles', 'Madera', 'Marin', 'Mariposa', 'Mendocino',\n",
       "       'Merced', 'Modoc', 'Mono', 'Monterey', 'Napa', 'Nevada', 'Orange',\n",
       "       'Placer', 'Plumas', 'Riverside', 'Sacramento', 'San Benito',\n",
       "       'San Bernardino', 'San Diego', 'San Francisco', 'San Joaquin',\n",
       "       'San Luis Obispo', 'San Mateo', 'Santa Barbara', 'Santa Clara',\n",
       "       'Santa Cruz', 'Shasta', 'Sierra', 'Siskiyou', 'Solano', 'Sonoma',\n",
       "       'Stanislaus', 'Sutter', 'Tehama', 'Trinity', 'Tulare', 'Tuolumne',\n",
       "       'Ventura', 'Yolo', 'Yuba'], dtype=object)"
      ]
     },
     "execution_count": 22,
     "metadata": {},
     "output_type": "execute_result"
    }
   ],
   "source": [
    "distcount_dict = {}\n",
    "for row in actdf.index:\n",
    "    #print(row)\n",
    "    c = actdf['CName'][row]\n",
    "    d = actdf['DName'][row]\n",
    "    #print(c)\n",
    "    #print(d)\n",
    "    if c in distcount_dict:\n",
    "        if d not in distcount_dict[c]:\n",
    "            distcount_dict[c].append(d)\n",
    "    else:\n",
    "        #distcount_dict[c] = set([d])\n",
    "        #distcount_dict.update({c:d}) \n",
    "        distcount_dict.update({c:[d]})\n",
    "distcount_dict.keys()   \n",
    "distcount_dict.get('Riverside')\n",
    "act_districtdf['county_name'].sort_values().unique()"
   ]
  },
  {
   "cell_type": "code",
   "execution_count": 26,
   "metadata": {},
   "outputs": [
    {
     "name": "stdout",
     "output_type": "stream",
     "text": [
      "404\n",
      "0\n",
      "['lakeside union elementary', 'junction elementary', 'hope elementary', 'jefferson elementary', 'junction elementary', 'hope elementary', 'pacific elementary', 'lakeside union elementary', 'washington unified', 'jefferson elementary', 'lakeside union elementary', 'washington unified', 'liberty elementary', 'pacific elementary', 'liberty elementary', 'jefferson elementary']\n"
     ]
    },
    {
     "data": {
      "text/plain": [
       "count    297.000000\n",
       "mean       0.485185\n",
       "std        0.206332\n",
       "min        0.000000\n",
       "25%        0.323340\n",
       "50%        0.476923\n",
       "75%        0.647887\n",
       "max        0.917647\n",
       "Name: % of SAT Test-Takers Scoring Above Average, dtype: float64"
      ]
     },
     "execution_count": 26,
     "metadata": {},
     "output_type": "execute_result"
    }
   ],
   "source": [
    "#equitydf.columns\n",
    "#equitydf.loc[ [0 ] ] #entire row\n",
    "#equitydf.loc[ :, [ 'School District' ] ]  #entire column\n",
    "#equitydf.loc[ 0, [ 'School District' ] ]  #One value/entry\n",
    "#print(len(list(district_scores_actdf['district_name'].unique())))\n",
    "#print(equitydf.shape)\n",
    "#print(len(list(district_scores_satdf['district_name'].unique())))\n",
    "print(len(list(district_scores_satdf['district_name'].unique())))\n",
    "\n",
    "dist_list = list(equitydf['district_name'])\n",
    "duplicates = []\n",
    "for district in dist_list:\n",
    "    if dist_list.count(district) > 1:\n",
    "        duplicates.append(district)\n",
    "#contains_duplicates = any(d_list.count(element) > 1 for element in d_list)\n",
    "print(equitydf.index[0])\n",
    "print(duplicates)\n",
    "equitydf[equitydf['district_name']=='Jefferson Elementary ']\n",
    "#print(district_scores_satdf.reset_index(drop=True))\n",
    "#print(district_scores_actdf['district_name'].sort_values())\n",
    "#print(district_scores_satdf['district_name'].sort_values())\n",
    "#print(district_scores_actdf[['district_name']].sort_values('district_name'))\n",
    "#print(district_scores_satdf[['district_name']].sort_values('district_name'))\n",
    "finaldf['% of SAT Test-Takers Scoring Above Average'] = finaldf['num_over_benchmark_sat']/finaldf['tested_seniors_x']\n",
    "finaldf['% of SAT Test-Takers Scoring Above Average'].describe()"
   ]
  },
  {
   "cell_type": "code",
   "execution_count": 5,
   "metadata": {},
   "outputs": [
    {
     "data": {
      "text/plain": [
       "count    297.000000\n",
       "mean       0.158825\n",
       "std        0.087973\n",
       "min        0.000000\n",
       "25%        0.091277\n",
       "50%        0.141192\n",
       "75%        0.213953\n",
       "max        0.449568\n",
       "Name: bench_over_enrolled, dtype: float64"
      ]
     },
     "execution_count": 5,
     "metadata": {},
     "output_type": "execute_result"
    }
   ],
   "source": [
    "finaldf['bench_over_enrolled'] = finaldf['num_over_benchmark_sat']/finaldf['enrolled_seniors_x']\n",
    "finaldf['bench_over_enrolled'].describe()\n",
    "fianldf['district_name']\n"
   ]
  },
  {
   "cell_type": "code",
   "execution_count": 6,
   "metadata": {},
   "outputs": [
    {
     "data": {
      "text/html": [
       "<div>\n",
       "<style scoped>\n",
       "    .dataframe tbody tr th:only-of-type {\n",
       "        vertical-align: middle;\n",
       "    }\n",
       "\n",
       "    .dataframe tbody tr th {\n",
       "        vertical-align: top;\n",
       "    }\n",
       "\n",
       "    .dataframe thead th {\n",
       "        text-align: right;\n",
       "    }\n",
       "</style>\n",
       "<table border=\"1\" class=\"dataframe\">\n",
       "  <thead>\n",
       "    <tr style=\"text-align: right;\">\n",
       "      <th></th>\n",
       "      <th>county_code_x</th>\n",
       "      <th>district_code_x</th>\n",
       "      <th>district_name</th>\n",
       "      <th>county_name_x</th>\n",
       "      <th>enrolled_seniors_x</th>\n",
       "      <th>tested_seniors_x</th>\n",
       "      <th>num_over_benchmark_sat</th>\n",
       "      <th>pct_over_benchmark_sat</th>\n",
       "      <th>county_code_y</th>\n",
       "      <th>district_code_y</th>\n",
       "      <th>...</th>\n",
       "      <th>enrolled_seniors_y</th>\n",
       "      <th>tested_seniors_y</th>\n",
       "      <th>num_over_benchmark_act</th>\n",
       "      <th>pct_over_benchmark_act</th>\n",
       "      <th>rank</th>\n",
       "      <th>score</th>\n",
       "      <th>expenditures_per_pupil</th>\n",
       "      <th>income</th>\n",
       "      <th>bench_over_tested</th>\n",
       "      <th>bench_over_enrolled</th>\n",
       "    </tr>\n",
       "  </thead>\n",
       "  <tbody>\n",
       "    <tr>\n",
       "      <th>183</th>\n",
       "      <td>19</td>\n",
       "      <td>1964733</td>\n",
       "      <td>los angeles unified</td>\n",
       "      <td>Los Angeles</td>\n",
       "      <td>41873</td>\n",
       "      <td>19988</td>\n",
       "      <td>5493</td>\n",
       "      <td>27.48</td>\n",
       "      <td>19</td>\n",
       "      <td>1964733</td>\n",
       "      <td>...</td>\n",
       "      <td>41873</td>\n",
       "      <td>9336</td>\n",
       "      <td>2774</td>\n",
       "      <td>29.71</td>\n",
       "      <td>271</td>\n",
       "      <td>18.08</td>\n",
       "      <td>13247</td>\n",
       "      <td>57607</td>\n",
       "      <td>0.274815</td>\n",
       "      <td>0.131182</td>\n",
       "    </tr>\n",
       "  </tbody>\n",
       "</table>\n",
       "<p>1 rows × 21 columns</p>\n",
       "</div>"
      ],
      "text/plain": [
       "     county_code_x  district_code_x        district_name county_name_x  \\\n",
       "183             19          1964733  los angeles unified   Los Angeles   \n",
       "\n",
       "     enrolled_seniors_x  tested_seniors_x  num_over_benchmark_sat  \\\n",
       "183               41873             19988                    5493   \n",
       "\n",
       "     pct_over_benchmark_sat  county_code_y  district_code_y  ...  \\\n",
       "183                   27.48             19          1964733  ...   \n",
       "\n",
       "    enrolled_seniors_y  tested_seniors_y  num_over_benchmark_act  \\\n",
       "183              41873              9336                    2774   \n",
       "\n",
       "     pct_over_benchmark_act  rank  score  expenditures_per_pupil  income  \\\n",
       "183                   29.71   271  18.08                   13247   57607   \n",
       "\n",
       "     bench_over_tested  bench_over_enrolled  \n",
       "183           0.274815             0.131182  \n",
       "\n",
       "[1 rows x 21 columns]"
      ]
     },
     "execution_count": 6,
     "metadata": {},
     "output_type": "execute_result"
    }
   ],
   "source": [
    "finaldf[finaldf['num_over_benchmark_act']>2000]\n",
    "finaldf[finaldf['num_over_benchmark_sat']>2000]"
   ]
  },
  {
   "cell_type": "code",
   "execution_count": 286,
   "metadata": {},
   "outputs": [
    {
     "ename": "KeyError",
     "evalue": "0",
     "output_type": "error",
     "traceback": [
      "\u001b[1;31m---------------------------------------------------------------------------\u001b[0m",
      "\u001b[1;31mKeyError\u001b[0m                                  Traceback (most recent call last)",
      "\u001b[1;32m<ipython-input-286-e0fbbb0d0839>\u001b[0m in \u001b[0;36m<module>\u001b[1;34m\u001b[0m\n\u001b[0;32m      4\u001b[0m \u001b[1;32mfor\u001b[0m \u001b[0mrow\u001b[0m \u001b[1;32min\u001b[0m \u001b[0mrange\u001b[0m\u001b[1;33m(\u001b[0m\u001b[0mlen\u001b[0m\u001b[1;33m(\u001b[0m\u001b[0mdistrict_scores_satdf\u001b[0m\u001b[1;33m)\u001b[0m\u001b[1;33m)\u001b[0m\u001b[1;33m:\u001b[0m\u001b[1;33m\u001b[0m\u001b[1;33m\u001b[0m\u001b[0m\n\u001b[0;32m      5\u001b[0m     \u001b[1;32mfor\u001b[0m \u001b[0mdistrict\u001b[0m \u001b[1;32min\u001b[0m \u001b[0mrange\u001b[0m\u001b[1;33m(\u001b[0m\u001b[0mlen\u001b[0m\u001b[1;33m(\u001b[0m\u001b[0mequitydf\u001b[0m\u001b[1;33m)\u001b[0m\u001b[1;33m)\u001b[0m\u001b[1;33m:\u001b[0m\u001b[1;33m\u001b[0m\u001b[1;33m\u001b[0m\u001b[0m\n\u001b[1;32m----> 6\u001b[1;33m         \u001b[1;32mif\u001b[0m \u001b[0mdistrict_scores_satdf\u001b[0m\u001b[1;33m[\u001b[0m\u001b[1;34m'district_name'\u001b[0m\u001b[1;33m]\u001b[0m\u001b[1;33m[\u001b[0m\u001b[0mrow\u001b[0m\u001b[1;33m]\u001b[0m \u001b[1;33m==\u001b[0m \u001b[0mequitydf\u001b[0m\u001b[1;33m[\u001b[0m\u001b[1;34m'district_name'\u001b[0m\u001b[1;33m]\u001b[0m\u001b[1;33m[\u001b[0m\u001b[0mdistrict\u001b[0m\u001b[1;33m]\u001b[0m\u001b[1;33m:\u001b[0m\u001b[1;33m\u001b[0m\u001b[1;33m\u001b[0m\u001b[0m\n\u001b[0m\u001b[0;32m      7\u001b[0m             \u001b[0mprint\u001b[0m\u001b[1;33m(\u001b[0m\u001b[0mrow\u001b[0m\u001b[1;33m)\u001b[0m\u001b[1;33m\u001b[0m\u001b[1;33m\u001b[0m\u001b[0m\n\u001b[0;32m      8\u001b[0m '''\n",
      "\u001b[1;32m~\\anaconda3\\lib\\site-packages\\pandas\\core\\series.py\u001b[0m in \u001b[0;36m__getitem__\u001b[1;34m(self, key)\u001b[0m\n\u001b[0;32m    869\u001b[0m         \u001b[0mkey\u001b[0m \u001b[1;33m=\u001b[0m \u001b[0mcom\u001b[0m\u001b[1;33m.\u001b[0m\u001b[0mapply_if_callable\u001b[0m\u001b[1;33m(\u001b[0m\u001b[0mkey\u001b[0m\u001b[1;33m,\u001b[0m \u001b[0mself\u001b[0m\u001b[1;33m)\u001b[0m\u001b[1;33m\u001b[0m\u001b[1;33m\u001b[0m\u001b[0m\n\u001b[0;32m    870\u001b[0m         \u001b[1;32mtry\u001b[0m\u001b[1;33m:\u001b[0m\u001b[1;33m\u001b[0m\u001b[1;33m\u001b[0m\u001b[0m\n\u001b[1;32m--> 871\u001b[1;33m             \u001b[0mresult\u001b[0m \u001b[1;33m=\u001b[0m \u001b[0mself\u001b[0m\u001b[1;33m.\u001b[0m\u001b[0mindex\u001b[0m\u001b[1;33m.\u001b[0m\u001b[0mget_value\u001b[0m\u001b[1;33m(\u001b[0m\u001b[0mself\u001b[0m\u001b[1;33m,\u001b[0m \u001b[0mkey\u001b[0m\u001b[1;33m)\u001b[0m\u001b[1;33m\u001b[0m\u001b[1;33m\u001b[0m\u001b[0m\n\u001b[0m\u001b[0;32m    872\u001b[0m \u001b[1;33m\u001b[0m\u001b[0m\n\u001b[0;32m    873\u001b[0m             \u001b[1;32mif\u001b[0m \u001b[1;32mnot\u001b[0m \u001b[0mis_scalar\u001b[0m\u001b[1;33m(\u001b[0m\u001b[0mresult\u001b[0m\u001b[1;33m)\u001b[0m\u001b[1;33m:\u001b[0m\u001b[1;33m\u001b[0m\u001b[1;33m\u001b[0m\u001b[0m\n",
      "\u001b[1;32m~\\anaconda3\\lib\\site-packages\\pandas\\core\\indexes\\base.py\u001b[0m in \u001b[0;36mget_value\u001b[1;34m(self, series, key)\u001b[0m\n\u001b[0;32m   4403\u001b[0m         \u001b[0mk\u001b[0m \u001b[1;33m=\u001b[0m \u001b[0mself\u001b[0m\u001b[1;33m.\u001b[0m\u001b[0m_convert_scalar_indexer\u001b[0m\u001b[1;33m(\u001b[0m\u001b[0mk\u001b[0m\u001b[1;33m,\u001b[0m \u001b[0mkind\u001b[0m\u001b[1;33m=\u001b[0m\u001b[1;34m\"getitem\"\u001b[0m\u001b[1;33m)\u001b[0m\u001b[1;33m\u001b[0m\u001b[1;33m\u001b[0m\u001b[0m\n\u001b[0;32m   4404\u001b[0m         \u001b[1;32mtry\u001b[0m\u001b[1;33m:\u001b[0m\u001b[1;33m\u001b[0m\u001b[1;33m\u001b[0m\u001b[0m\n\u001b[1;32m-> 4405\u001b[1;33m             \u001b[1;32mreturn\u001b[0m \u001b[0mself\u001b[0m\u001b[1;33m.\u001b[0m\u001b[0m_engine\u001b[0m\u001b[1;33m.\u001b[0m\u001b[0mget_value\u001b[0m\u001b[1;33m(\u001b[0m\u001b[0ms\u001b[0m\u001b[1;33m,\u001b[0m \u001b[0mk\u001b[0m\u001b[1;33m,\u001b[0m \u001b[0mtz\u001b[0m\u001b[1;33m=\u001b[0m\u001b[0mgetattr\u001b[0m\u001b[1;33m(\u001b[0m\u001b[0mseries\u001b[0m\u001b[1;33m.\u001b[0m\u001b[0mdtype\u001b[0m\u001b[1;33m,\u001b[0m \u001b[1;34m\"tz\"\u001b[0m\u001b[1;33m,\u001b[0m \u001b[1;32mNone\u001b[0m\u001b[1;33m)\u001b[0m\u001b[1;33m)\u001b[0m\u001b[1;33m\u001b[0m\u001b[1;33m\u001b[0m\u001b[0m\n\u001b[0m\u001b[0;32m   4406\u001b[0m         \u001b[1;32mexcept\u001b[0m \u001b[0mKeyError\u001b[0m \u001b[1;32mas\u001b[0m \u001b[0me1\u001b[0m\u001b[1;33m:\u001b[0m\u001b[1;33m\u001b[0m\u001b[1;33m\u001b[0m\u001b[0m\n\u001b[0;32m   4407\u001b[0m             \u001b[1;32mif\u001b[0m \u001b[0mlen\u001b[0m\u001b[1;33m(\u001b[0m\u001b[0mself\u001b[0m\u001b[1;33m)\u001b[0m \u001b[1;33m>\u001b[0m \u001b[1;36m0\u001b[0m \u001b[1;32mand\u001b[0m \u001b[1;33m(\u001b[0m\u001b[0mself\u001b[0m\u001b[1;33m.\u001b[0m\u001b[0mholds_integer\u001b[0m\u001b[1;33m(\u001b[0m\u001b[1;33m)\u001b[0m \u001b[1;32mor\u001b[0m \u001b[0mself\u001b[0m\u001b[1;33m.\u001b[0m\u001b[0mis_boolean\u001b[0m\u001b[1;33m(\u001b[0m\u001b[1;33m)\u001b[0m\u001b[1;33m)\u001b[0m\u001b[1;33m:\u001b[0m\u001b[1;33m\u001b[0m\u001b[1;33m\u001b[0m\u001b[0m\n",
      "\u001b[1;32mpandas\\_libs\\index.pyx\u001b[0m in \u001b[0;36mpandas._libs.index.IndexEngine.get_value\u001b[1;34m()\u001b[0m\n",
      "\u001b[1;32mpandas\\_libs\\index.pyx\u001b[0m in \u001b[0;36mpandas._libs.index.IndexEngine.get_value\u001b[1;34m()\u001b[0m\n",
      "\u001b[1;32mpandas\\_libs\\index.pyx\u001b[0m in \u001b[0;36mpandas._libs.index.IndexEngine.get_loc\u001b[1;34m()\u001b[0m\n",
      "\u001b[1;32mpandas\\_libs\\hashtable_class_helper.pxi\u001b[0m in \u001b[0;36mpandas._libs.hashtable.Int64HashTable.get_item\u001b[1;34m()\u001b[0m\n",
      "\u001b[1;32mpandas\\_libs\\hashtable_class_helper.pxi\u001b[0m in \u001b[0;36mpandas._libs.hashtable.Int64HashTable.get_item\u001b[1;34m()\u001b[0m\n",
      "\u001b[1;31mKeyError\u001b[0m: 0"
     ]
    }
   ],
   "source": [
    "#Create a check for overlapping districts\n",
    "district_scores_actdf.reset_index(inplace=True)\n",
    "district_scores_satdf.reset_index(inplace=True)\n",
    "for row in range(len(district_scores_satdf)):\n",
    "    for district in range(len(equitydf)):\n",
    "        if district_scores_satdf['district_name'][row] == equitydf['district_name'][district]:\n",
    "            print(row)\n",
    "''''\n",
    "districts = district_scores_satdf['district_name'].copy()\n",
    "act_only_districts = []\n",
    "print(len(act_only_districts))\n",
    "for district in district_scores_actdf['district_name']:\n",
    "    if district not in district_scores_satdf['district_name']:\n",
    "        act_only_districts.append(district)\n",
    "print(len(act_only_districts))"
   ]
  },
  {
   "cell_type": "code",
   "execution_count": 29,
   "metadata": {},
   "outputs": [
    {
     "name": "stdout",
     "output_type": "stream",
     "text": [
      "83                  abc unified\n",
      "824         acalanes union high\n",
      "478    acton-agua dulce unified\n",
      "595         adelanto elementary\n",
      "267             alameda unified\n",
      "                 ...           \n",
      "403            yosemite unified\n",
      "747    yreka unified elementary\n",
      "384            yreka union high\n",
      "498           yuba city unified\n",
      "482       yucaipa joint unified\n",
      "Name: district_name, Length: 919, dtype: object\n",
      "             rank       score  expenditures_per_pupil         income\n",
      "count  919.000000  919.000000              919.000000     919.000000\n",
      "mean   460.000000   42.541665            13238.808487   70375.121872\n",
      "std    265.436747   48.826999             6347.429652   31653.293993\n",
      "min      1.000000    0.030000              260.000000   18917.000000\n",
      "25%    230.500000   15.560000            10790.000000   48136.000000\n",
      "50%    460.000000   31.460000            12031.000000   63175.000000\n",
      "75%    689.500000   50.140000            13641.000000   84978.500000\n",
      "max    919.000000  453.310000            82571.000000  250000.000000\n",
      "1252                       ABC Unified\n",
      "1157               Acalanes Union High\n",
      "1123                   Alameda Unified\n",
      "1124               Albany City Unified\n",
      "1310                  Alhambra Unified\n",
      "                     ...              \n",
      "1639            Woodland Joint Unified\n",
      "1319                  Yosemite Unified\n",
      "1550                  Yreka Union High\n",
      "1598                 Yuba City Unified\n",
      "1442    Yucaipa-Calimesa Joint Unified\n",
      "Name: district_name, Length: 350, dtype: object\n",
      "Index(['CDS', 'CCode', 'CDCode', 'SCode', 'RType', 'SName', 'DName', 'CName',\n",
      "       'Enroll12', 'NumTstTakr', 'AvgScrRead', 'AvgScrEng', 'AvgScrMath',\n",
      "       'AvgScrSci', 'NumGE21', 'PctGE21', 'Year', 'Unnamed: 17'],\n",
      "      dtype='object')\n",
      "Index(['rank', 'district_name', 'score', 'expenditures_per_pupil', 'income'], dtype='object')\n"
     ]
    }
   ],
   "source": [
    "print(equitydf['district_name'].sort_values())\n",
    "print(equitydf.describe())\n",
    "print(district_scores_actdf['district_name'].sort_values())\n",
    "#equitydf.loc[ :, [ 'district' ] ]  \n",
    "#for index in range(len(equitydf['district'])):\n",
    "    #actdf['district'].str.find(equitydf['district'][index], start=0, end=None).unique()\n",
    "#df = actdf.loc[ :, [ 'county', 'district' ] ].sort_values('district').dropna()\n",
    "#df.set_index('county')['district'].to_dict()\n",
    "#actdf['district'].unique()\n",
    "#actdf.sort_values('district').head(25)\n",
    "#data_dict = actdf.to_dict()\n",
    "#districts = list(actdf['district'].unique())\n",
    "#grouped = df.groupby(df['county'])\n",
    "#grouped.count()\n",
    "#Parameters:\n",
    "#sub: String or character to be searched in the text value in series\n",
    "#start: int value, start point of searching. Default is 0 which means from the beginning of string\n",
    "#end: int value, end point where the search needs to be stopped. Default is None.\n",
    "print(actdf.columns)\n",
    "print(equitydf.columns)"
   ]
  },
  {
   "cell_type": "markdown",
   "metadata": {},
   "source": [
    "### "
   ]
  },
  {
   "cell_type": "markdown",
   "metadata": {},
   "source": [
    "### Data Dictionary\n",
    "\n",
    "Now that we've fixed our data, and given it appropriate names, let's create a [data dictionary](http://library.ucmerced.edu/node/10249). \n",
    "\n",
    "A data dictionary provides a quick overview of features/variables/columns, alongside data types and descriptions. The more descriptive you can be, the more useful this document is.\n",
    "\n",
    "Example of a Fictional Data Dictionary Entry: \n",
    "\n",
    "|Feature|Type|Dataset|Description|\n",
    "|---|---|---|---|\n",
    "|**county_pop**|*integer*|2010 census|The population of the county (units in thousands, where 2.5 represents 2500 people).| \n",
    "|**per_poverty**|*float*|2010 census|The percent of the county over the age of 18 living below the 200% of official US poverty rate (units percent to two decimal places 98.10 means 98.1%)|\n",
    "\n",
    "[Here's a quick link to a short guide for formatting markdown in Jupyter notebooks](https://jupyter-notebook.readthedocs.io/en/stable/examples/Notebook/Working%20With%20Markdown%20Cells.html).\n",
    "\n",
    "Provided is the skeleton for formatting a markdown table, with columns headers that will help you create a data dictionary to quickly summarize your data, as well as some examples. **This would be a great thing to copy and paste into your custom README for this project.**\n",
    "\n",
    "*Note*: if you are unsure of what a feature is, check the source of the data! This can be found in the README."
   ]
  },
  {
   "cell_type": "markdown",
   "metadata": {},
   "source": [
    "**To-Do:** *Edit the table below to create your own data dictionary for the datasets you chose.*\n",
    "\n",
    "|Feature|Type|Dataset|Description|\n",
    "|---|---|---|---|\n",
    "|column name|int/float/object|ACT/SAT|This is an example| \n"
   ]
  },
  {
   "cell_type": "markdown",
   "metadata": {},
   "source": [
    "## Exploratory Data Analysis\n",
    "\n",
    "Complete the following steps to explore your data. You are welcome to do more EDA than the steps outlined here as you feel necessary:\n",
    "1. Summary Statistics.\n",
    "2. Use a **dictionary comprehension** to apply the standard deviation function you create in part 1 to each numeric column in the dataframe.  **No loops**.\n",
    "    - Assign the output to variable `sd` as a dictionary where: \n",
    "        - Each column name is now a key \n",
    "        - That standard deviation of the column is the value \n",
    "        - *Example Output :* `{'ACT_Math': 120, 'ACT_Reading': 120, ...}`\n",
    "3. Investigate trends in the data.\n",
    "    - Using sorting and/or masking (along with the `.head()` method to avoid printing our entire dataframe), consider questions relevant to your problem statement. Some examples are provided below (but feel free to change these questions for your specific problem):\n",
    "        - Which states have the highest and lowest participation rates for the 2017, 2019, or 2019 SAT and ACT?\n",
    "        - Which states have the highest and lowest mean total/composite scores for the 2017, 2019, or 2019 SAT and ACT?\n",
    "        - Do any states with 100% participation on a given test have a rate change year-to-year?\n",
    "        - Do any states show have >50% participation on *both* tests each year?\n",
    "        - Which colleges have the highest median SAT and ACT scores for admittance?\n",
    "        - Which California school districts have the highest and lowest mean test scores?\n",
    "    - **You should comment on your findings at each step in a markdown cell below your code block**. Make sure you include at least one example of sorting your dataframe by a column, and one example of using boolean filtering (i.e., masking) to select a subset of the dataframe."
   ]
  },
  {
   "cell_type": "code",
   "execution_count": 79,
   "metadata": {},
   "outputs": [
    {
     "name": "stdout",
     "output_type": "stream",
     "text": [
      "<class 'pandas.core.frame.DataFrame'>\n",
      "Int64Index: 539 entries, 2037 to 2575\n",
      "Data columns (total 6 columns):\n",
      " #   Column            Non-Null Count  Dtype \n",
      "---  ------            --------------  ----- \n",
      " 0   county_code       539 non-null    int64 \n",
      " 1   district_code     539 non-null    int64 \n",
      " 2   district_name     539 non-null    object\n",
      " 3   county_name       539 non-null    object\n",
      " 4   enrolled_seniors  539 non-null    int64 \n",
      " 5   tested_seniors    539 non-null    int64 \n",
      "dtypes: int64(4), object(2)\n",
      "memory usage: 29.5+ KB\n",
      "None\n"
     ]
    }
   ],
   "source": [
    "print(sat_districtdf.info());"
   ]
  },
  {
   "cell_type": "code",
   "execution_count": 288,
   "metadata": {},
   "outputs": [
    {
     "name": "stdout",
     "output_type": "stream",
     "text": [
      "                             district_name  pct_over_benchmark_sat\n",
      "2100                 Golden Plains Unified                    0.00\n",
      "2215  San Diego County Office of Education                    0.00\n",
      "2238                    Washington Unified                    9.76\n",
      "2314       Inyo County Office of Education                    0.00\n",
      "2342                      Williams Unified                    0.00\n",
      "2416          Firebaugh-Las Deltas Unified                    5.95\n",
      "2418                     McFarland Unified                    9.09\n",
      "2498                    Cloverdale Unified                    9.52\n",
      "                      district_name  pct_over_benchmark_act\n",
      "1189   Firebaugh-Las Deltas Unified                    9.68\n",
      "1192                Mendota Unified                    8.54\n",
      "1193          Golden Plains Unified                    0.00\n",
      "1197             Washington Unified                    8.26\n",
      "1226                 Mojave Unified                    9.68\n",
      "1241            Reef-Sunset Unified                    3.57\n",
      "1300                Compton Unified                    7.17\n",
      "1313  SBE - Academia Avance Charter                    9.09\n",
      "1345   Tulelake Basin Joint Unified                    6.67\n",
      "1504     Ravenswood City Elementary                    9.68\n",
      "<class 'pandas.core.frame.DataFrame'>\n",
      "RangeIndex: 919 entries, 0 to 918\n",
      "Data columns (total 5 columns):\n",
      " #   Column                  Non-Null Count  Dtype  \n",
      "---  ------                  --------------  -----  \n",
      " 0   rank                    919 non-null    int64  \n",
      " 1   district_name           919 non-null    object \n",
      " 2   score                   919 non-null    float64\n",
      " 3   expenditures_per_pupil  919 non-null    int64  \n",
      " 4   income                  919 non-null    int64  \n",
      "dtypes: float64(1), int64(3), object(1)\n",
      "memory usage: 36.0+ KB\n",
      "None\n"
     ]
    },
    {
     "data": {
      "text/html": [
       "<div>\n",
       "<style scoped>\n",
       "    .dataframe tbody tr th:only-of-type {\n",
       "        vertical-align: middle;\n",
       "    }\n",
       "\n",
       "    .dataframe tbody tr th {\n",
       "        vertical-align: top;\n",
       "    }\n",
       "\n",
       "    .dataframe thead th {\n",
       "        text-align: right;\n",
       "    }\n",
       "</style>\n",
       "<table border=\"1\" class=\"dataframe\">\n",
       "  <thead>\n",
       "    <tr style=\"text-align: right;\">\n",
       "      <th></th>\n",
       "      <th>rank</th>\n",
       "      <th>district_name</th>\n",
       "      <th>score</th>\n",
       "      <th>expenditures_per_pupil</th>\n",
       "      <th>income</th>\n",
       "    </tr>\n",
       "  </thead>\n",
       "  <tbody>\n",
       "    <tr>\n",
       "      <th>899</th>\n",
       "      <td>900</td>\n",
       "      <td>cold spring elementary</td>\n",
       "      <td>189.82</td>\n",
       "      <td>21918</td>\n",
       "      <td>157824</td>\n",
       "    </tr>\n",
       "    <tr>\n",
       "      <th>900</th>\n",
       "      <td>901</td>\n",
       "      <td>menlo park city elementary</td>\n",
       "      <td>190.97</td>\n",
       "      <td>17368</td>\n",
       "      <td>182819</td>\n",
       "    </tr>\n",
       "    <tr>\n",
       "      <th>901</th>\n",
       "      <td>902</td>\n",
       "      <td>orinda union elementary</td>\n",
       "      <td>196.00</td>\n",
       "      <td>13025</td>\n",
       "      <td>209449</td>\n",
       "    </tr>\n",
       "    <tr>\n",
       "      <th>902</th>\n",
       "      <td>903</td>\n",
       "      <td>saratoga union elementary</td>\n",
       "      <td>202.08</td>\n",
       "      <td>18109</td>\n",
       "      <td>186703</td>\n",
       "    </tr>\n",
       "    <tr>\n",
       "      <th>903</th>\n",
       "      <td>904</td>\n",
       "      <td>los altos elementary</td>\n",
       "      <td>203.38</td>\n",
       "      <td>15669</td>\n",
       "      <td>200585</td>\n",
       "    </tr>\n",
       "    <tr>\n",
       "      <th>904</th>\n",
       "      <td>905</td>\n",
       "      <td>las lomitas elementary</td>\n",
       "      <td>208.58</td>\n",
       "      <td>20139</td>\n",
       "      <td>180481</td>\n",
       "    </tr>\n",
       "    <tr>\n",
       "      <th>905</th>\n",
       "      <td>906</td>\n",
       "      <td>montecito elementary</td>\n",
       "      <td>218.14</td>\n",
       "      <td>29215</td>\n",
       "      <td>138967</td>\n",
       "    </tr>\n",
       "    <tr>\n",
       "      <th>906</th>\n",
       "      <td>907</td>\n",
       "      <td>lincoln elementary</td>\n",
       "      <td>221.93</td>\n",
       "      <td>37000</td>\n",
       "      <td>100250</td>\n",
       "    </tr>\n",
       "    <tr>\n",
       "      <th>907</th>\n",
       "      <td>908</td>\n",
       "      <td>lakeside joint</td>\n",
       "      <td>224.87</td>\n",
       "      <td>23784</td>\n",
       "      <td>172574</td>\n",
       "    </tr>\n",
       "    <tr>\n",
       "      <th>908</th>\n",
       "      <td>909</td>\n",
       "      <td>piedmont city unified</td>\n",
       "      <td>225.57</td>\n",
       "      <td>16668</td>\n",
       "      <td>210889</td>\n",
       "    </tr>\n",
       "    <tr>\n",
       "      <th>909</th>\n",
       "      <td>910</td>\n",
       "      <td>death valley unified</td>\n",
       "      <td>281.06</td>\n",
       "      <td>57808</td>\n",
       "      <td>31250</td>\n",
       "    </tr>\n",
       "    <tr>\n",
       "      <th>910</th>\n",
       "      <td>911</td>\n",
       "      <td>portola valley elementary</td>\n",
       "      <td>282.25</td>\n",
       "      <td>25016</td>\n",
       "      <td>206406</td>\n",
       "    </tr>\n",
       "    <tr>\n",
       "      <th>911</th>\n",
       "      <td>912</td>\n",
       "      <td>panoche elementary</td>\n",
       "      <td>286.80</td>\n",
       "      <td>57000</td>\n",
       "      <td>39583</td>\n",
       "    </tr>\n",
       "    <tr>\n",
       "      <th>912</th>\n",
       "      <td>913</td>\n",
       "      <td>bolinas stinson unified</td>\n",
       "      <td>303.19</td>\n",
       "      <td>50703</td>\n",
       "      <td>84596</td>\n",
       "    </tr>\n",
       "    <tr>\n",
       "      <th>913</th>\n",
       "      <td>914</td>\n",
       "      <td>hillsborough city</td>\n",
       "      <td>309.04</td>\n",
       "      <td>20362</td>\n",
       "      <td>250000</td>\n",
       "    </tr>\n",
       "    <tr>\n",
       "      <th>914</th>\n",
       "      <td>915</td>\n",
       "      <td>ross elementary</td>\n",
       "      <td>311.99</td>\n",
       "      <td>20752</td>\n",
       "      <td>250000</td>\n",
       "    </tr>\n",
       "    <tr>\n",
       "      <th>915</th>\n",
       "      <td>916</td>\n",
       "      <td>woodside elementary</td>\n",
       "      <td>338.51</td>\n",
       "      <td>27516</td>\n",
       "      <td>232708</td>\n",
       "    </tr>\n",
       "    <tr>\n",
       "      <th>916</th>\n",
       "      <td>917</td>\n",
       "      <td>silver fork elementary</td>\n",
       "      <td>436.07</td>\n",
       "      <td>72333</td>\n",
       "      <td>63125</td>\n",
       "    </tr>\n",
       "    <tr>\n",
       "      <th>917</th>\n",
       "      <td>918</td>\n",
       "      <td>desert center unified</td>\n",
       "      <td>440.19</td>\n",
       "      <td>77200</td>\n",
       "      <td>40156</td>\n",
       "    </tr>\n",
       "    <tr>\n",
       "      <th>918</th>\n",
       "      <td>919</td>\n",
       "      <td>indian springs elementary</td>\n",
       "      <td>453.31</td>\n",
       "      <td>82571</td>\n",
       "      <td>20833</td>\n",
       "    </tr>\n",
       "  </tbody>\n",
       "</table>\n",
       "</div>"
      ],
      "text/plain": [
       "     rank               district_name   score  expenditures_per_pupil  income\n",
       "899   900      cold spring elementary  189.82                   21918  157824\n",
       "900   901  menlo park city elementary  190.97                   17368  182819\n",
       "901   902     orinda union elementary  196.00                   13025  209449\n",
       "902   903   saratoga union elementary  202.08                   18109  186703\n",
       "903   904        los altos elementary  203.38                   15669  200585\n",
       "904   905      las lomitas elementary  208.58                   20139  180481\n",
       "905   906        montecito elementary  218.14                   29215  138967\n",
       "906   907          lincoln elementary  221.93                   37000  100250\n",
       "907   908              lakeside joint  224.87                   23784  172574\n",
       "908   909       piedmont city unified  225.57                   16668  210889\n",
       "909   910        death valley unified  281.06                   57808   31250\n",
       "910   911   portola valley elementary  282.25                   25016  206406\n",
       "911   912          panoche elementary  286.80                   57000   39583\n",
       "912   913     bolinas stinson unified  303.19                   50703   84596\n",
       "913   914           hillsborough city  309.04                   20362  250000\n",
       "914   915             ross elementary  311.99                   20752  250000\n",
       "915   916         woodside elementary  338.51                   27516  232708\n",
       "916   917      silver fork elementary  436.07                   72333   63125\n",
       "917   918       desert center unified  440.19                   77200   40156\n",
       "918   919   indian springs elementary  453.31                   82571   20833"
      ]
     },
     "execution_count": 288,
     "metadata": {},
     "output_type": "execute_result"
    }
   ],
   "source": [
    "#Code:\n",
    "#Participation DataFrames\n",
    "#print(sat_districtdf.info());\n",
    "#print(act_districtdf.info());\n",
    "\n",
    "#Combine enrollment and test-taking numbers to calc participation percentages for ease of comparison\n",
    "act_districtdf['percent_participation'] = round((act_districtdf['tested_seniors']/act_districtdf['enrolled_seniors'])*100,2)\n",
    "sat_districtdf['percent_participation'] = round((sat_districtdf['tested_seniors']/sat_districtdf['enrolled_seniors'])*100,2)\n",
    "#Identify issue with interpretation of dataset. Total No. of test takers shoud not exceed No. of seniors\n",
    "#print(act_districtdf[act_districtdf['percent_participation']>100]) #actdf.index == [1400, 1504, 1601] > 100% participation!\n",
    "#print(actdf[actdf.index == 1400])\n",
    "#print(sat_districtdf[sat_districtdf['percent_participation']>=100]) #SAT data checks out\n",
    "\n",
    "#Scores above benchmark threshold DataFrames\n",
    "#print(district_scores_satdf.describe());\n",
    "#print(district_scores_actdf.describe());\n",
    "print(district_scores_satdf[district_scores_satdf['pct_over_benchmark_sat']<10][['district_name','pct_over_benchmark_sat']])\n",
    "print(district_scores_actdf[district_scores_actdf['pct_over_benchmark_act']<10][['district_name','pct_over_benchmark_act']])\n",
    "\n",
    "#External income/equity data DataFrames\n",
    "print(equitydf.info())\n",
    "equitydf.sort_values('rank').tail(20)\n",
    "#print(act_countydf.groupby('RType')[['NumTstTakr','Enroll12']].agg( ['mean', 'max', 'min', 'std'] ))\n",
    "#print(act_countydf[['CName','NumGE21','PctGE21']].info());\n",
    "#print(act_countydf['NumTstTakr'].std())\n",
    "\n",
    "#Use this code later to look at statistics after adding a column pct_participation = ('NumTstTakr' / 'Enroll12')\n",
    "#print(act_countydf[['NumTstTakr', 'Enroll12']].agg( ['mean', 'max', 'min', 'std'] ))\n",
    "#print(act_districtdf.groupby('CName')[['NumTstTakr','Enroll12']].agg( ['mean', 'max', 'min', 'std'] ))"
   ]
  },
  {
   "cell_type": "markdown",
   "metadata": {},
   "source": [
    "**To-Do:** *Edit this cell with your findings on trends in the data (step 3 above).*"
   ]
  },
  {
   "cell_type": "markdown",
   "metadata": {},
   "source": [
    "## Visualize the Data\n",
    "\n",
    "There's not a magic bullet recommendation for the right number of plots to understand a given dataset, but visualizing your data is *always* a good idea. Not only does it allow you to quickly convey your findings (even if you have a non-technical audience), it will often reveal trends in your data that escaped you when you were looking only at numbers. It is important to not only create visualizations, but to **interpret your visualizations** as well.\n",
    "\n",
    "**Every plot should**:\n",
    "- Have a title\n",
    "- Have axis labels\n",
    "- Have appropriate tick labels\n",
    "- Text is legible in a plot\n",
    "- Plots demonstrate meaningful and valid relationships\n",
    "- Have an interpretation to aid understanding\n",
    "\n",
    "Here is an example of what your plots should look like following the above guidelines. Note that while the content of this example is unrelated, the principles of visualization hold:\n",
    "\n",
    "![](https://snag.gy/hCBR1U.jpg)\n",
    "*Interpretation: The above image shows that as we increase our spending on advertising, our sales numbers also tend to increase. There is a positive correlation between advertising spending and sales.*\n",
    "\n",
    "---\n",
    "\n",
    "Here are some prompts to get you started with visualizations. Feel free to add additional visualizations as you see fit:\n",
    "1. Use Seaborn's heatmap with pandas `.corr()` to visualize correlations between all numeric features.\n",
    "    - Heatmaps are generally not appropriate for presentations, and should often be excluded from reports as they can be visually overwhelming. **However**, they can be extremely useful in identify relationships of potential interest (as well as identifying potential collinearity before modeling).\n",
    "    - Please take time to format your output, adding a title. Look through some of the additional arguments and options. (Axis labels aren't really necessary, as long as the title is informative).\n",
    "2. Visualize distributions using histograms. If you have a lot, consider writing a custom function and use subplots.\n",
    "    - *OPTIONAL*: Summarize the underlying distributions of your features (in words & statistics)\n",
    "         - Be thorough in your verbal description of these distributions.\n",
    "         - Be sure to back up these summaries with statistics.\n",
    "         - We generally assume that data we sample from a population will be normally distributed. Do we observe this trend? Explain your answers for each distribution and how you think this will affect estimates made from these data.\n",
    "3. Plot and interpret boxplots. \n",
    "    - Boxplots demonstrate central tendency and spread in variables. In a certain sense, these are somewhat redundant with histograms, but you may be better able to identify clear outliers or differences in IQR, etc.\n",
    "    - Multiple values can be plotted to a single boxplot as long as they are of the same relative scale (meaning they have similar min/max values).\n",
    "    - Each boxplot should:\n",
    "        - Only include variables of a similar scale\n",
    "        - Have clear labels for each variable\n",
    "        - Have appropriate titles and labels\n",
    "4. Plot and interpret scatter plots to view relationships between features. Feel free to write a custom function, and subplot if you'd like. Functions save both time and space.\n",
    "    - Your plots should have:\n",
    "        - Two clearly labeled axes\n",
    "        - A proper title\n",
    "        - Colors and symbols that are clear and unmistakable\n",
    "5. Additional plots of your choosing.\n",
    "    - Are there any additional trends or relationships you haven't explored? Was there something interesting you saw that you'd like to dive further into? It's likely that there are a few more plots you might want to generate to support your narrative and recommendations that you are building toward. **As always, make sure you're interpreting your plots as you go**."
   ]
  },
  {
   "cell_type": "code",
   "execution_count": 12,
   "metadata": {},
   "outputs": [
    {
     "data": {
      "image/png": "[encoded data removed]",
      "text/plain": [
       "<Figure size 432x288 with 1 Axes>"
      ]
     },
     "metadata": {
      "needs_background": "light"
     },
     "output_type": "display_data"
    }
   ],
   "source": [
    "# Code\n",
    "# 4. Scatter Plots\n",
    "#Plot scatter plot of percentage of seniors scoring above benchmark SAT scores as a function of School District Equity Score\n",
    "sns.regplot( x='score', y='% of SAT Test-Takers Scoring Above Average', data=finaldf, x_ci=95);"
   ]
  },
  {
   "cell_type": "code",
   "execution_count": 13,
   "metadata": {},
   "outputs": [
    {
     "data": {
      "image/png": "[encoded data removed]",
      "text/plain": [
       "<Figure size 432x288 with 1 Axes>"
      ]
     },
     "metadata": {
      "needs_background": "light"
     },
     "output_type": "display_data"
    }
   ],
   "source": [
    "#Plot scatter plot of percentage of seniors scoring above benchmark SACT composite scores as a function of School District Equity Score\n",
    "sns.regplot( x='score', y='pct_over_benchmark_act', data=finaldf);"
   ]
  },
  {
   "cell_type": "code",
   "execution_count": 32,
   "metadata": {},
   "outputs": [
    {
     "data": {
      "text/plain": [
       "<seaborn.axisgrid.FacetGrid at 0x202145fe0d0>"
      ]
     },
     "execution_count": 32,
     "metadata": {},
     "output_type": "execute_result"
    },
    {
     "data": {
      "image/png": "[encoded data removed]",
      "text/plain": [
       "<Figure size 360x360 with 1 Axes>"
      ]
     },
     "metadata": {
      "needs_background": "light"
     },
     "output_type": "display_data"
    }
   ],
   "source": [
    "#.sort_by('rank')\n",
    "finaldf.loc[:,['district_name','pct_over_benchmark_sat','pct_over_benchmark_act','rank', 'score']].sort_values(by='rank')\n",
    "#Plot x=rank, y=pct_over_benchmark\n",
    "sns.catplot(  x='score', y='pct_over_benchmark_act', data=finaldf, kind='box', sym=' ' , whis= [5, 95]  );"
   ]
  },
  {
   "cell_type": "markdown",
   "metadata": {},
   "source": [
    "## Conclusions and Recommendations"
   ]
  },
  {
   "cell_type": "markdown",
   "metadata": {},
   "source": [
    "Based on your exploration of the data, what are you key takeaways and recommendations? Make sure to answer your question of interest or address your problem statement here."
   ]
  },
  {
   "cell_type": "markdown",
   "metadata": {},
   "source": [
    "*\n",
    "1. In 2018-2019 the percentage of twelth graders scoring above threshold benchmark scores on college entrance exams was highest for test takers representing California public school districts with equity scores greater than 50.\n",
    "\n",
    "2. It is recommended that the standardized test scores of these individual school districts are monitored closely for additional information essential to providing equal opportunities *"
   ]
  }
 ],
 "metadata": {
  "anaconda-cloud": {},
  "kernelspec": {
   "display_name": "Python 3",
   "language": "python",
   "name": "python3"
  },
  "language_info": {
   "codemirror_mode": {
    "name": "ipython",
    "version": 3
   },
   "file_extension": ".py",
   "mimetype": "text/x-python",
   "name": "python",
   "nbconvert_exporter": "python",
   "pygments_lexer": "ipython3",
   "version": "3.8.3"
  }
 },
 "nbformat": 4,
 "nbformat_minor": 4
}
